{
  "cells": [
    {
      "cell_type": "markdown",
      "metadata": {
        "id": "view-in-github",
        "colab_type": "text"
      },
      "source": [
        "<a href=\"https://colab.research.google.com/github/Manpreet102005/Diabetes-Prediction/blob/main/Diabetes.ipynb\" target=\"_parent\"><img src=\"https://colab.research.google.com/assets/colab-badge.svg\" alt=\"Open In Colab\"/></a>"
      ]
    },
    {
      "cell_type": "code",
      "execution_count": 2,
      "metadata": {
        "colab": {
          "base_uri": "https://localhost:8080/"
        },
        "id": "81f5UN_zhaOE",
        "outputId": "bb151579-a70c-4f51-cad9-68d77cacdd5e"
      },
      "outputs": [
        {
          "output_type": "stream",
          "name": "stdout",
          "text": [
            "Collecting opendatasets\n",
            "  Downloading opendatasets-0.1.22-py3-none-any.whl.metadata (9.2 kB)\n",
            "Requirement already satisfied: tqdm in /usr/local/lib/python3.12/dist-packages (from opendatasets) (4.67.1)\n",
            "Requirement already satisfied: kaggle in /usr/local/lib/python3.12/dist-packages (from opendatasets) (1.7.4.5)\n",
            "Requirement already satisfied: click in /usr/local/lib/python3.12/dist-packages (from opendatasets) (8.2.1)\n",
            "Requirement already satisfied: bleach in /usr/local/lib/python3.12/dist-packages (from kaggle->opendatasets) (6.2.0)\n",
            "Requirement already satisfied: certifi>=14.05.14 in /usr/local/lib/python3.12/dist-packages (from kaggle->opendatasets) (2025.8.3)\n",
            "Requirement already satisfied: charset-normalizer in /usr/local/lib/python3.12/dist-packages (from kaggle->opendatasets) (3.4.3)\n",
            "Requirement already satisfied: idna in /usr/local/lib/python3.12/dist-packages (from kaggle->opendatasets) (3.10)\n",
            "Requirement already satisfied: protobuf in /usr/local/lib/python3.12/dist-packages (from kaggle->opendatasets) (5.29.5)\n",
            "Requirement already satisfied: python-dateutil>=2.5.3 in /usr/local/lib/python3.12/dist-packages (from kaggle->opendatasets) (2.9.0.post0)\n",
            "Requirement already satisfied: python-slugify in /usr/local/lib/python3.12/dist-packages (from kaggle->opendatasets) (8.0.4)\n",
            "Requirement already satisfied: requests in /usr/local/lib/python3.12/dist-packages (from kaggle->opendatasets) (2.32.4)\n",
            "Requirement already satisfied: setuptools>=21.0.0 in /usr/local/lib/python3.12/dist-packages (from kaggle->opendatasets) (75.2.0)\n",
            "Requirement already satisfied: six>=1.10 in /usr/local/lib/python3.12/dist-packages (from kaggle->opendatasets) (1.17.0)\n",
            "Requirement already satisfied: text-unidecode in /usr/local/lib/python3.12/dist-packages (from kaggle->opendatasets) (1.3)\n",
            "Requirement already satisfied: urllib3>=1.15.1 in /usr/local/lib/python3.12/dist-packages (from kaggle->opendatasets) (2.5.0)\n",
            "Requirement already satisfied: webencodings in /usr/local/lib/python3.12/dist-packages (from kaggle->opendatasets) (0.5.1)\n",
            "Downloading opendatasets-0.1.22-py3-none-any.whl (15 kB)\n",
            "Installing collected packages: opendatasets\n",
            "Successfully installed opendatasets-0.1.22\n"
          ]
        }
      ],
      "source": [
        " pip install opendatasets"
      ]
    },
    {
      "cell_type": "code",
      "execution_count": 3,
      "metadata": {
        "id": "L196W_DXhpPf"
      },
      "outputs": [],
      "source": [
        "import opendatasets\n",
        "import numpy as np\n",
        "import pandas as pd\n",
        "import matplotlib.pyplot as plt\n",
        "%matplotlib inline\n",
        "import plotly.express as px\n",
        "import os"
      ]
    },
    {
      "cell_type": "code",
      "execution_count": 4,
      "metadata": {
        "colab": {
          "base_uri": "https://localhost:8080/"
        },
        "id": "gt3M1k79iCAq",
        "outputId": "3f8228dc-ef4d-42d7-91aa-fd9a6b7ad536"
      },
      "outputs": [
        {
          "output_type": "stream",
          "name": "stdout",
          "text": [
            "Please provide your Kaggle credentials to download this dataset. Learn more: http://bit.ly/kaggle-creds\n",
            "Your Kaggle username: manpreetsinghkashyap\n",
            "Your Kaggle Key: ··········\n",
            "Dataset URL: https://www.kaggle.com/datasets/uciml/pima-indians-diabetes-database\n",
            "Downloading pima-indians-diabetes-database.zip to ./pima-indians-diabetes-database\n"
          ]
        },
        {
          "output_type": "stream",
          "name": "stderr",
          "text": [
            "100%|██████████| 8.91k/8.91k [00:00<00:00, 34.6MB/s]"
          ]
        },
        {
          "output_type": "stream",
          "name": "stdout",
          "text": [
            "\n"
          ]
        },
        {
          "output_type": "stream",
          "name": "stderr",
          "text": [
            "\n"
          ]
        }
      ],
      "source": [
        "opendatasets.download(\"https://www.kaggle.com/datasets/uciml/pima-indians-diabetes-database\")"
      ]
    },
    {
      "cell_type": "code",
      "execution_count": 5,
      "metadata": {
        "id": "j0kt5U3AjBqN"
      },
      "outputs": [],
      "source": [
        "df=pd.read_csv(\"/content/pima-indians-diabetes-database/diabetes.csv\")"
      ]
    },
    {
      "cell_type": "code",
      "execution_count": 6,
      "metadata": {
        "id": "dv05PJzbkT-x"
      },
      "outputs": [],
      "source": [
        "from sklearn.model_selection import train_test_split\n",
        "train_df_1,test_df=train_test_split(df,test_size=0.2,random_state=758)\n",
        "train_df,val_df=train_test_split(train_df_1,test_size=0.25,random_state=758)"
      ]
    },
    {
      "cell_type": "code",
      "execution_count": 7,
      "metadata": {
        "colab": {
          "base_uri": "https://localhost:8080/"
        },
        "id": "cAUHfBsRmKlS",
        "outputId": "1cd9ca5d-20c6-48ec-f43e-e5b7dd448e7c"
      },
      "outputs": [
        {
          "output_type": "stream",
          "name": "stdout",
          "text": [
            "<class 'pandas.core.frame.DataFrame'>\n",
            "Index: 460 entries, 395 to 727\n",
            "Data columns (total 9 columns):\n",
            " #   Column                    Non-Null Count  Dtype  \n",
            "---  ------                    --------------  -----  \n",
            " 0   Pregnancies               460 non-null    int64  \n",
            " 1   Glucose                   460 non-null    int64  \n",
            " 2   BloodPressure             460 non-null    int64  \n",
            " 3   SkinThickness             460 non-null    int64  \n",
            " 4   Insulin                   460 non-null    int64  \n",
            " 5   BMI                       460 non-null    float64\n",
            " 6   DiabetesPedigreeFunction  460 non-null    float64\n",
            " 7   Age                       460 non-null    int64  \n",
            " 8   Outcome                   460 non-null    int64  \n",
            "dtypes: float64(2), int64(7)\n",
            "memory usage: 35.9 KB\n"
          ]
        }
      ],
      "source": [
        "train_df.info()"
      ]
    },
    {
      "cell_type": "code",
      "execution_count": 8,
      "metadata": {
        "id": "Slfu6kIhmRzj",
        "colab": {
          "base_uri": "https://localhost:8080/",
          "height": 300
        },
        "outputId": "990fd670-04d2-4aa6-d5dc-932ccf747906"
      },
      "outputs": [
        {
          "output_type": "execute_result",
          "data": {
            "text/plain": [
              "       Pregnancies    Glucose  BloodPressure  SkinThickness     Insulin  \\\n",
              "count   460.000000  460.00000     460.000000     460.000000  460.000000   \n",
              "mean      3.734783  121.48913      68.469565      20.810870   83.295652   \n",
              "std       3.421591   32.58055      19.260205      16.320359  120.664733   \n",
              "min       0.000000    0.00000       0.000000       0.000000    0.000000   \n",
              "25%       1.000000   97.00000      62.000000       0.000000    0.000000   \n",
              "50%       3.000000  118.50000      72.000000      23.000000   36.500000   \n",
              "75%       6.000000  143.00000      80.000000      33.000000  126.000000   \n",
              "max      17.000000  199.00000     114.000000      99.000000  744.000000   \n",
              "\n",
              "             BMI  DiabetesPedigreeFunction         Age     Outcome  \n",
              "count  460.00000                460.000000  460.000000  460.000000  \n",
              "mean    32.15000                  0.478467   32.878261    0.367391  \n",
              "std      7.85624                  0.342261   11.853240    0.482619  \n",
              "min      0.00000                  0.084000   21.000000    0.000000  \n",
              "25%     27.40000                  0.239500   24.000000    0.000000  \n",
              "50%     32.40000                  0.373500   29.000000    0.000000  \n",
              "75%     36.60000                  0.641250   41.000000    1.000000  \n",
              "max     59.40000                  2.420000   81.000000    1.000000  "
            ],
            "text/html": [
              "\n",
              "  <div id=\"df-53125335-1f77-4c18-b6da-d03797a5695f\" class=\"colab-df-container\">\n",
              "    <div>\n",
              "<style scoped>\n",
              "    .dataframe tbody tr th:only-of-type {\n",
              "        vertical-align: middle;\n",
              "    }\n",
              "\n",
              "    .dataframe tbody tr th {\n",
              "        vertical-align: top;\n",
              "    }\n",
              "\n",
              "    .dataframe thead th {\n",
              "        text-align: right;\n",
              "    }\n",
              "</style>\n",
              "<table border=\"1\" class=\"dataframe\">\n",
              "  <thead>\n",
              "    <tr style=\"text-align: right;\">\n",
              "      <th></th>\n",
              "      <th>Pregnancies</th>\n",
              "      <th>Glucose</th>\n",
              "      <th>BloodPressure</th>\n",
              "      <th>SkinThickness</th>\n",
              "      <th>Insulin</th>\n",
              "      <th>BMI</th>\n",
              "      <th>DiabetesPedigreeFunction</th>\n",
              "      <th>Age</th>\n",
              "      <th>Outcome</th>\n",
              "    </tr>\n",
              "  </thead>\n",
              "  <tbody>\n",
              "    <tr>\n",
              "      <th>count</th>\n",
              "      <td>460.000000</td>\n",
              "      <td>460.00000</td>\n",
              "      <td>460.000000</td>\n",
              "      <td>460.000000</td>\n",
              "      <td>460.000000</td>\n",
              "      <td>460.00000</td>\n",
              "      <td>460.000000</td>\n",
              "      <td>460.000000</td>\n",
              "      <td>460.000000</td>\n",
              "    </tr>\n",
              "    <tr>\n",
              "      <th>mean</th>\n",
              "      <td>3.734783</td>\n",
              "      <td>121.48913</td>\n",
              "      <td>68.469565</td>\n",
              "      <td>20.810870</td>\n",
              "      <td>83.295652</td>\n",
              "      <td>32.15000</td>\n",
              "      <td>0.478467</td>\n",
              "      <td>32.878261</td>\n",
              "      <td>0.367391</td>\n",
              "    </tr>\n",
              "    <tr>\n",
              "      <th>std</th>\n",
              "      <td>3.421591</td>\n",
              "      <td>32.58055</td>\n",
              "      <td>19.260205</td>\n",
              "      <td>16.320359</td>\n",
              "      <td>120.664733</td>\n",
              "      <td>7.85624</td>\n",
              "      <td>0.342261</td>\n",
              "      <td>11.853240</td>\n",
              "      <td>0.482619</td>\n",
              "    </tr>\n",
              "    <tr>\n",
              "      <th>min</th>\n",
              "      <td>0.000000</td>\n",
              "      <td>0.00000</td>\n",
              "      <td>0.000000</td>\n",
              "      <td>0.000000</td>\n",
              "      <td>0.000000</td>\n",
              "      <td>0.00000</td>\n",
              "      <td>0.084000</td>\n",
              "      <td>21.000000</td>\n",
              "      <td>0.000000</td>\n",
              "    </tr>\n",
              "    <tr>\n",
              "      <th>25%</th>\n",
              "      <td>1.000000</td>\n",
              "      <td>97.00000</td>\n",
              "      <td>62.000000</td>\n",
              "      <td>0.000000</td>\n",
              "      <td>0.000000</td>\n",
              "      <td>27.40000</td>\n",
              "      <td>0.239500</td>\n",
              "      <td>24.000000</td>\n",
              "      <td>0.000000</td>\n",
              "    </tr>\n",
              "    <tr>\n",
              "      <th>50%</th>\n",
              "      <td>3.000000</td>\n",
              "      <td>118.50000</td>\n",
              "      <td>72.000000</td>\n",
              "      <td>23.000000</td>\n",
              "      <td>36.500000</td>\n",
              "      <td>32.40000</td>\n",
              "      <td>0.373500</td>\n",
              "      <td>29.000000</td>\n",
              "      <td>0.000000</td>\n",
              "    </tr>\n",
              "    <tr>\n",
              "      <th>75%</th>\n",
              "      <td>6.000000</td>\n",
              "      <td>143.00000</td>\n",
              "      <td>80.000000</td>\n",
              "      <td>33.000000</td>\n",
              "      <td>126.000000</td>\n",
              "      <td>36.60000</td>\n",
              "      <td>0.641250</td>\n",
              "      <td>41.000000</td>\n",
              "      <td>1.000000</td>\n",
              "    </tr>\n",
              "    <tr>\n",
              "      <th>max</th>\n",
              "      <td>17.000000</td>\n",
              "      <td>199.00000</td>\n",
              "      <td>114.000000</td>\n",
              "      <td>99.000000</td>\n",
              "      <td>744.000000</td>\n",
              "      <td>59.40000</td>\n",
              "      <td>2.420000</td>\n",
              "      <td>81.000000</td>\n",
              "      <td>1.000000</td>\n",
              "    </tr>\n",
              "  </tbody>\n",
              "</table>\n",
              "</div>\n",
              "    <div class=\"colab-df-buttons\">\n",
              "\n",
              "  <div class=\"colab-df-container\">\n",
              "    <button class=\"colab-df-convert\" onclick=\"convertToInteractive('df-53125335-1f77-4c18-b6da-d03797a5695f')\"\n",
              "            title=\"Convert this dataframe to an interactive table.\"\n",
              "            style=\"display:none;\">\n",
              "\n",
              "  <svg xmlns=\"http://www.w3.org/2000/svg\" height=\"24px\" viewBox=\"0 -960 960 960\">\n",
              "    <path d=\"M120-120v-720h720v720H120Zm60-500h600v-160H180v160Zm220 220h160v-160H400v160Zm0 220h160v-160H400v160ZM180-400h160v-160H180v160Zm440 0h160v-160H620v160ZM180-180h160v-160H180v160Zm440 0h160v-160H620v160Z\"/>\n",
              "  </svg>\n",
              "    </button>\n",
              "\n",
              "  <style>\n",
              "    .colab-df-container {\n",
              "      display:flex;\n",
              "      gap: 12px;\n",
              "    }\n",
              "\n",
              "    .colab-df-convert {\n",
              "      background-color: #E8F0FE;\n",
              "      border: none;\n",
              "      border-radius: 50%;\n",
              "      cursor: pointer;\n",
              "      display: none;\n",
              "      fill: #1967D2;\n",
              "      height: 32px;\n",
              "      padding: 0 0 0 0;\n",
              "      width: 32px;\n",
              "    }\n",
              "\n",
              "    .colab-df-convert:hover {\n",
              "      background-color: #E2EBFA;\n",
              "      box-shadow: 0px 1px 2px rgba(60, 64, 67, 0.3), 0px 1px 3px 1px rgba(60, 64, 67, 0.15);\n",
              "      fill: #174EA6;\n",
              "    }\n",
              "\n",
              "    .colab-df-buttons div {\n",
              "      margin-bottom: 4px;\n",
              "    }\n",
              "\n",
              "    [theme=dark] .colab-df-convert {\n",
              "      background-color: #3B4455;\n",
              "      fill: #D2E3FC;\n",
              "    }\n",
              "\n",
              "    [theme=dark] .colab-df-convert:hover {\n",
              "      background-color: #434B5C;\n",
              "      box-shadow: 0px 1px 3px 1px rgba(0, 0, 0, 0.15);\n",
              "      filter: drop-shadow(0px 1px 2px rgba(0, 0, 0, 0.3));\n",
              "      fill: #FFFFFF;\n",
              "    }\n",
              "  </style>\n",
              "\n",
              "    <script>\n",
              "      const buttonEl =\n",
              "        document.querySelector('#df-53125335-1f77-4c18-b6da-d03797a5695f button.colab-df-convert');\n",
              "      buttonEl.style.display =\n",
              "        google.colab.kernel.accessAllowed ? 'block' : 'none';\n",
              "\n",
              "      async function convertToInteractive(key) {\n",
              "        const element = document.querySelector('#df-53125335-1f77-4c18-b6da-d03797a5695f');\n",
              "        const dataTable =\n",
              "          await google.colab.kernel.invokeFunction('convertToInteractive',\n",
              "                                                    [key], {});\n",
              "        if (!dataTable) return;\n",
              "\n",
              "        const docLinkHtml = 'Like what you see? Visit the ' +\n",
              "          '<a target=\"_blank\" href=https://colab.research.google.com/notebooks/data_table.ipynb>data table notebook</a>'\n",
              "          + ' to learn more about interactive tables.';\n",
              "        element.innerHTML = '';\n",
              "        dataTable['output_type'] = 'display_data';\n",
              "        await google.colab.output.renderOutput(dataTable, element);\n",
              "        const docLink = document.createElement('div');\n",
              "        docLink.innerHTML = docLinkHtml;\n",
              "        element.appendChild(docLink);\n",
              "      }\n",
              "    </script>\n",
              "  </div>\n",
              "\n",
              "\n",
              "    <div id=\"df-4ed6f362-0702-4526-8189-3fafa7c3a0e4\">\n",
              "      <button class=\"colab-df-quickchart\" onclick=\"quickchart('df-4ed6f362-0702-4526-8189-3fafa7c3a0e4')\"\n",
              "                title=\"Suggest charts\"\n",
              "                style=\"display:none;\">\n",
              "\n",
              "<svg xmlns=\"http://www.w3.org/2000/svg\" height=\"24px\"viewBox=\"0 0 24 24\"\n",
              "     width=\"24px\">\n",
              "    <g>\n",
              "        <path d=\"M19 3H5c-1.1 0-2 .9-2 2v14c0 1.1.9 2 2 2h14c1.1 0 2-.9 2-2V5c0-1.1-.9-2-2-2zM9 17H7v-7h2v7zm4 0h-2V7h2v10zm4 0h-2v-4h2v4z\"/>\n",
              "    </g>\n",
              "</svg>\n",
              "      </button>\n",
              "\n",
              "<style>\n",
              "  .colab-df-quickchart {\n",
              "      --bg-color: #E8F0FE;\n",
              "      --fill-color: #1967D2;\n",
              "      --hover-bg-color: #E2EBFA;\n",
              "      --hover-fill-color: #174EA6;\n",
              "      --disabled-fill-color: #AAA;\n",
              "      --disabled-bg-color: #DDD;\n",
              "  }\n",
              "\n",
              "  [theme=dark] .colab-df-quickchart {\n",
              "      --bg-color: #3B4455;\n",
              "      --fill-color: #D2E3FC;\n",
              "      --hover-bg-color: #434B5C;\n",
              "      --hover-fill-color: #FFFFFF;\n",
              "      --disabled-bg-color: #3B4455;\n",
              "      --disabled-fill-color: #666;\n",
              "  }\n",
              "\n",
              "  .colab-df-quickchart {\n",
              "    background-color: var(--bg-color);\n",
              "    border: none;\n",
              "    border-radius: 50%;\n",
              "    cursor: pointer;\n",
              "    display: none;\n",
              "    fill: var(--fill-color);\n",
              "    height: 32px;\n",
              "    padding: 0;\n",
              "    width: 32px;\n",
              "  }\n",
              "\n",
              "  .colab-df-quickchart:hover {\n",
              "    background-color: var(--hover-bg-color);\n",
              "    box-shadow: 0 1px 2px rgba(60, 64, 67, 0.3), 0 1px 3px 1px rgba(60, 64, 67, 0.15);\n",
              "    fill: var(--button-hover-fill-color);\n",
              "  }\n",
              "\n",
              "  .colab-df-quickchart-complete:disabled,\n",
              "  .colab-df-quickchart-complete:disabled:hover {\n",
              "    background-color: var(--disabled-bg-color);\n",
              "    fill: var(--disabled-fill-color);\n",
              "    box-shadow: none;\n",
              "  }\n",
              "\n",
              "  .colab-df-spinner {\n",
              "    border: 2px solid var(--fill-color);\n",
              "    border-color: transparent;\n",
              "    border-bottom-color: var(--fill-color);\n",
              "    animation:\n",
              "      spin 1s steps(1) infinite;\n",
              "  }\n",
              "\n",
              "  @keyframes spin {\n",
              "    0% {\n",
              "      border-color: transparent;\n",
              "      border-bottom-color: var(--fill-color);\n",
              "      border-left-color: var(--fill-color);\n",
              "    }\n",
              "    20% {\n",
              "      border-color: transparent;\n",
              "      border-left-color: var(--fill-color);\n",
              "      border-top-color: var(--fill-color);\n",
              "    }\n",
              "    30% {\n",
              "      border-color: transparent;\n",
              "      border-left-color: var(--fill-color);\n",
              "      border-top-color: var(--fill-color);\n",
              "      border-right-color: var(--fill-color);\n",
              "    }\n",
              "    40% {\n",
              "      border-color: transparent;\n",
              "      border-right-color: var(--fill-color);\n",
              "      border-top-color: var(--fill-color);\n",
              "    }\n",
              "    60% {\n",
              "      border-color: transparent;\n",
              "      border-right-color: var(--fill-color);\n",
              "    }\n",
              "    80% {\n",
              "      border-color: transparent;\n",
              "      border-right-color: var(--fill-color);\n",
              "      border-bottom-color: var(--fill-color);\n",
              "    }\n",
              "    90% {\n",
              "      border-color: transparent;\n",
              "      border-bottom-color: var(--fill-color);\n",
              "    }\n",
              "  }\n",
              "</style>\n",
              "\n",
              "      <script>\n",
              "        async function quickchart(key) {\n",
              "          const quickchartButtonEl =\n",
              "            document.querySelector('#' + key + ' button');\n",
              "          quickchartButtonEl.disabled = true;  // To prevent multiple clicks.\n",
              "          quickchartButtonEl.classList.add('colab-df-spinner');\n",
              "          try {\n",
              "            const charts = await google.colab.kernel.invokeFunction(\n",
              "                'suggestCharts', [key], {});\n",
              "          } catch (error) {\n",
              "            console.error('Error during call to suggestCharts:', error);\n",
              "          }\n",
              "          quickchartButtonEl.classList.remove('colab-df-spinner');\n",
              "          quickchartButtonEl.classList.add('colab-df-quickchart-complete');\n",
              "        }\n",
              "        (() => {\n",
              "          let quickchartButtonEl =\n",
              "            document.querySelector('#df-4ed6f362-0702-4526-8189-3fafa7c3a0e4 button');\n",
              "          quickchartButtonEl.style.display =\n",
              "            google.colab.kernel.accessAllowed ? 'block' : 'none';\n",
              "        })();\n",
              "      </script>\n",
              "    </div>\n",
              "\n",
              "    </div>\n",
              "  </div>\n"
            ],
            "application/vnd.google.colaboratory.intrinsic+json": {
              "type": "dataframe",
              "summary": "{\n  \"name\": \"train_df\",\n  \"rows\": 8,\n  \"fields\": [\n    {\n      \"column\": \"Pregnancies\",\n      \"properties\": {\n        \"dtype\": \"number\",\n        \"std\": 160.99549270570293,\n        \"min\": 0.0,\n        \"max\": 460.0,\n        \"num_unique_values\": 8,\n        \"samples\": [\n          3.734782608695652,\n          3.0,\n          460.0\n        ],\n        \"semantic_type\": \"\",\n        \"description\": \"\"\n      }\n    },\n    {\n      \"column\": \"Glucose\",\n      \"properties\": {\n        \"dtype\": \"number\",\n        \"std\": 141.09288302131515,\n        \"min\": 0.0,\n        \"max\": 460.0,\n        \"num_unique_values\": 8,\n        \"samples\": [\n          121.48913043478261,\n          118.5,\n          460.0\n        ],\n        \"semantic_type\": \"\",\n        \"description\": \"\"\n      }\n    },\n    {\n      \"column\": \"BloodPressure\",\n      \"properties\": {\n        \"dtype\": \"number\",\n        \"std\": 146.00401562106677,\n        \"min\": 0.0,\n        \"max\": 460.0,\n        \"num_unique_values\": 8,\n        \"samples\": [\n          68.4695652173913,\n          72.0,\n          460.0\n        ],\n        \"semantic_type\": \"\",\n        \"description\": \"\"\n      }\n    },\n    {\n      \"column\": \"SkinThickness\",\n      \"properties\": {\n        \"dtype\": \"number\",\n        \"std\": 156.0947761334101,\n        \"min\": 0.0,\n        \"max\": 460.0,\n        \"num_unique_values\": 7,\n        \"samples\": [\n          460.0,\n          20.81086956521739,\n          33.0\n        ],\n        \"semantic_type\": \"\",\n        \"description\": \"\"\n      }\n    },\n    {\n      \"column\": \"Insulin\",\n      \"properties\": {\n        \"dtype\": \"number\",\n        \"std\": 266.0690473772009,\n        \"min\": 0.0,\n        \"max\": 744.0,\n        \"num_unique_values\": 7,\n        \"samples\": [\n          460.0,\n          83.29565217391304,\n          126.0\n        ],\n        \"semantic_type\": \"\",\n        \"description\": \"\"\n      }\n    },\n    {\n      \"column\": \"BMI\",\n      \"properties\": {\n        \"dtype\": \"number\",\n        \"std\": 153.8104376029356,\n        \"min\": 0.0,\n        \"max\": 460.0,\n        \"num_unique_values\": 8,\n        \"samples\": [\n          32.15,\n          32.4,\n          460.0\n        ],\n        \"semantic_type\": \"\",\n        \"description\": \"\"\n      }\n    },\n    {\n      \"column\": \"DiabetesPedigreeFunction\",\n      \"properties\": {\n        \"dtype\": \"number\",\n        \"std\": 162.40496744876253,\n        \"min\": 0.084,\n        \"max\": 460.0,\n        \"num_unique_values\": 8,\n        \"samples\": [\n          0.47846739130434784,\n          0.3735,\n          460.0\n        ],\n        \"semantic_type\": \"\",\n        \"description\": \"\"\n      }\n    },\n    {\n      \"column\": \"Age\",\n      \"properties\": {\n        \"dtype\": \"number\",\n        \"std\": 151.91322698615457,\n        \"min\": 11.853240422588101,\n        \"max\": 460.0,\n        \"num_unique_values\": 8,\n        \"samples\": [\n          32.87826086956522,\n          29.0,\n          460.0\n        ],\n        \"semantic_type\": \"\",\n        \"description\": \"\"\n      }\n    },\n    {\n      \"column\": \"Outcome\",\n      \"properties\": {\n        \"dtype\": \"number\",\n        \"std\": 162.49114321824263,\n        \"min\": 0.0,\n        \"max\": 460.0,\n        \"num_unique_values\": 5,\n        \"samples\": [\n          0.3673913043478261,\n          1.0,\n          0.4826191919679662\n        ],\n        \"semantic_type\": \"\",\n        \"description\": \"\"\n      }\n    }\n  ]\n}"
            }
          },
          "metadata": {},
          "execution_count": 8
        }
      ],
      "source": [
        "train_df.describe()"
      ]
    },
    {
      "cell_type": "code",
      "source": [
        "df.isna().sum()"
      ],
      "metadata": {
        "colab": {
          "base_uri": "https://localhost:8080/",
          "height": 366
        },
        "id": "8l6JjRCDMm-K",
        "outputId": "e0ca1449-0c2e-430e-acc6-b2d738945560"
      },
      "execution_count": 9,
      "outputs": [
        {
          "output_type": "execute_result",
          "data": {
            "text/plain": [
              "Pregnancies                 0\n",
              "Glucose                     0\n",
              "BloodPressure               0\n",
              "SkinThickness               0\n",
              "Insulin                     0\n",
              "BMI                         0\n",
              "DiabetesPedigreeFunction    0\n",
              "Age                         0\n",
              "Outcome                     0\n",
              "dtype: int64"
            ],
            "text/html": [
              "<div>\n",
              "<style scoped>\n",
              "    .dataframe tbody tr th:only-of-type {\n",
              "        vertical-align: middle;\n",
              "    }\n",
              "\n",
              "    .dataframe tbody tr th {\n",
              "        vertical-align: top;\n",
              "    }\n",
              "\n",
              "    .dataframe thead th {\n",
              "        text-align: right;\n",
              "    }\n",
              "</style>\n",
              "<table border=\"1\" class=\"dataframe\">\n",
              "  <thead>\n",
              "    <tr style=\"text-align: right;\">\n",
              "      <th></th>\n",
              "      <th>0</th>\n",
              "    </tr>\n",
              "  </thead>\n",
              "  <tbody>\n",
              "    <tr>\n",
              "      <th>Pregnancies</th>\n",
              "      <td>0</td>\n",
              "    </tr>\n",
              "    <tr>\n",
              "      <th>Glucose</th>\n",
              "      <td>0</td>\n",
              "    </tr>\n",
              "    <tr>\n",
              "      <th>BloodPressure</th>\n",
              "      <td>0</td>\n",
              "    </tr>\n",
              "    <tr>\n",
              "      <th>SkinThickness</th>\n",
              "      <td>0</td>\n",
              "    </tr>\n",
              "    <tr>\n",
              "      <th>Insulin</th>\n",
              "      <td>0</td>\n",
              "    </tr>\n",
              "    <tr>\n",
              "      <th>BMI</th>\n",
              "      <td>0</td>\n",
              "    </tr>\n",
              "    <tr>\n",
              "      <th>DiabetesPedigreeFunction</th>\n",
              "      <td>0</td>\n",
              "    </tr>\n",
              "    <tr>\n",
              "      <th>Age</th>\n",
              "      <td>0</td>\n",
              "    </tr>\n",
              "    <tr>\n",
              "      <th>Outcome</th>\n",
              "      <td>0</td>\n",
              "    </tr>\n",
              "  </tbody>\n",
              "</table>\n",
              "</div><br><label><b>dtype:</b> int64</label>"
            ]
          },
          "metadata": {},
          "execution_count": 9
        }
      ]
    },
    {
      "cell_type": "code",
      "source": [
        "inputs=list(df.columns[:-1])\n",
        "target=\"Outcome\""
      ],
      "metadata": {
        "id": "nWKjE6NbMCXl"
      },
      "execution_count": 10,
      "outputs": []
    },
    {
      "cell_type": "code",
      "source": [
        "X_train=train_df[inputs].copy()\n",
        "Y_train=train_df[target].copy()\n",
        "X_val=val_df[inputs].copy()\n",
        "Y_val=val_df[target].copy()\n",
        "X_test=test_df[inputs].copy()\n",
        "Y_test=test_df[target].copy()"
      ],
      "metadata": {
        "id": "TZKULWjpM7uL"
      },
      "execution_count": 11,
      "outputs": []
    },
    {
      "cell_type": "code",
      "source": [
        "numeric_cols=list(X_train.select_dtypes('number'))"
      ],
      "metadata": {
        "id": "AxUQBDxjNsQv"
      },
      "execution_count": 12,
      "outputs": []
    },
    {
      "cell_type": "code",
      "source": [
        "# Scaling of inputs\n",
        "from sklearn.preprocessing import MinMaxScaler\n",
        "scaler=MinMaxScaler().fit(X_train,Y_train)\n",
        "X_train[numeric_cols]=scaler.transform(X_train[numeric_cols])\n",
        "X_val[numeric_cols]=scaler.transform(X_val[numeric_cols])\n",
        "X_test[numeric_cols]=scaler.transform(X_test[numeric_cols])"
      ],
      "metadata": {
        "id": "GqkGQSi9MaJx"
      },
      "execution_count": 13,
      "outputs": []
    },
    {
      "cell_type": "code",
      "source": [
        "X_train.corr()"
      ],
      "metadata": {
        "colab": {
          "base_uri": "https://localhost:8080/",
          "height": 300
        },
        "id": "R3L-v7eFMj_1",
        "outputId": "0cfbc6b4-8acf-4659-d83c-650ae9cb2c98"
      },
      "execution_count": 14,
      "outputs": [
        {
          "output_type": "execute_result",
          "data": {
            "text/plain": [
              "                          Pregnancies   Glucose  BloodPressure  SkinThickness  \\\n",
              "Pregnancies                  1.000000  0.123000       0.189838      -0.061880   \n",
              "Glucose                      0.123000  1.000000       0.146481       0.091438   \n",
              "BloodPressure                0.189838  0.146481       1.000000       0.194712   \n",
              "SkinThickness               -0.061880  0.091438       0.194712       1.000000   \n",
              "Insulin                     -0.024996  0.334260       0.098417       0.439563   \n",
              "BMI                          0.016315  0.284250       0.310252       0.383551   \n",
              "DiabetesPedigreeFunction    -0.071887  0.179688       0.031197       0.218880   \n",
              "Age                          0.580165  0.222987       0.211325      -0.085329   \n",
              "\n",
              "                           Insulin       BMI  DiabetesPedigreeFunction  \\\n",
              "Pregnancies              -0.024996  0.016315                 -0.071887   \n",
              "Glucose                   0.334260  0.284250                  0.179688   \n",
              "BloodPressure             0.098417  0.310252                  0.031197   \n",
              "SkinThickness             0.439563  0.383551                  0.218880   \n",
              "Insulin                   1.000000  0.210639                  0.262018   \n",
              "BMI                       0.210639  1.000000                  0.153818   \n",
              "DiabetesPedigreeFunction  0.262018  0.153818                  1.000000   \n",
              "Age                      -0.038414  0.008408                  0.033208   \n",
              "\n",
              "                               Age  \n",
              "Pregnancies               0.580165  \n",
              "Glucose                   0.222987  \n",
              "BloodPressure             0.211325  \n",
              "SkinThickness            -0.085329  \n",
              "Insulin                  -0.038414  \n",
              "BMI                       0.008408  \n",
              "DiabetesPedigreeFunction  0.033208  \n",
              "Age                       1.000000  "
            ],
            "text/html": [
              "\n",
              "  <div id=\"df-d7992eea-a9d1-4d99-a61a-b58137d8134c\" class=\"colab-df-container\">\n",
              "    <div>\n",
              "<style scoped>\n",
              "    .dataframe tbody tr th:only-of-type {\n",
              "        vertical-align: middle;\n",
              "    }\n",
              "\n",
              "    .dataframe tbody tr th {\n",
              "        vertical-align: top;\n",
              "    }\n",
              "\n",
              "    .dataframe thead th {\n",
              "        text-align: right;\n",
              "    }\n",
              "</style>\n",
              "<table border=\"1\" class=\"dataframe\">\n",
              "  <thead>\n",
              "    <tr style=\"text-align: right;\">\n",
              "      <th></th>\n",
              "      <th>Pregnancies</th>\n",
              "      <th>Glucose</th>\n",
              "      <th>BloodPressure</th>\n",
              "      <th>SkinThickness</th>\n",
              "      <th>Insulin</th>\n",
              "      <th>BMI</th>\n",
              "      <th>DiabetesPedigreeFunction</th>\n",
              "      <th>Age</th>\n",
              "    </tr>\n",
              "  </thead>\n",
              "  <tbody>\n",
              "    <tr>\n",
              "      <th>Pregnancies</th>\n",
              "      <td>1.000000</td>\n",
              "      <td>0.123000</td>\n",
              "      <td>0.189838</td>\n",
              "      <td>-0.061880</td>\n",
              "      <td>-0.024996</td>\n",
              "      <td>0.016315</td>\n",
              "      <td>-0.071887</td>\n",
              "      <td>0.580165</td>\n",
              "    </tr>\n",
              "    <tr>\n",
              "      <th>Glucose</th>\n",
              "      <td>0.123000</td>\n",
              "      <td>1.000000</td>\n",
              "      <td>0.146481</td>\n",
              "      <td>0.091438</td>\n",
              "      <td>0.334260</td>\n",
              "      <td>0.284250</td>\n",
              "      <td>0.179688</td>\n",
              "      <td>0.222987</td>\n",
              "    </tr>\n",
              "    <tr>\n",
              "      <th>BloodPressure</th>\n",
              "      <td>0.189838</td>\n",
              "      <td>0.146481</td>\n",
              "      <td>1.000000</td>\n",
              "      <td>0.194712</td>\n",
              "      <td>0.098417</td>\n",
              "      <td>0.310252</td>\n",
              "      <td>0.031197</td>\n",
              "      <td>0.211325</td>\n",
              "    </tr>\n",
              "    <tr>\n",
              "      <th>SkinThickness</th>\n",
              "      <td>-0.061880</td>\n",
              "      <td>0.091438</td>\n",
              "      <td>0.194712</td>\n",
              "      <td>1.000000</td>\n",
              "      <td>0.439563</td>\n",
              "      <td>0.383551</td>\n",
              "      <td>0.218880</td>\n",
              "      <td>-0.085329</td>\n",
              "    </tr>\n",
              "    <tr>\n",
              "      <th>Insulin</th>\n",
              "      <td>-0.024996</td>\n",
              "      <td>0.334260</td>\n",
              "      <td>0.098417</td>\n",
              "      <td>0.439563</td>\n",
              "      <td>1.000000</td>\n",
              "      <td>0.210639</td>\n",
              "      <td>0.262018</td>\n",
              "      <td>-0.038414</td>\n",
              "    </tr>\n",
              "    <tr>\n",
              "      <th>BMI</th>\n",
              "      <td>0.016315</td>\n",
              "      <td>0.284250</td>\n",
              "      <td>0.310252</td>\n",
              "      <td>0.383551</td>\n",
              "      <td>0.210639</td>\n",
              "      <td>1.000000</td>\n",
              "      <td>0.153818</td>\n",
              "      <td>0.008408</td>\n",
              "    </tr>\n",
              "    <tr>\n",
              "      <th>DiabetesPedigreeFunction</th>\n",
              "      <td>-0.071887</td>\n",
              "      <td>0.179688</td>\n",
              "      <td>0.031197</td>\n",
              "      <td>0.218880</td>\n",
              "      <td>0.262018</td>\n",
              "      <td>0.153818</td>\n",
              "      <td>1.000000</td>\n",
              "      <td>0.033208</td>\n",
              "    </tr>\n",
              "    <tr>\n",
              "      <th>Age</th>\n",
              "      <td>0.580165</td>\n",
              "      <td>0.222987</td>\n",
              "      <td>0.211325</td>\n",
              "      <td>-0.085329</td>\n",
              "      <td>-0.038414</td>\n",
              "      <td>0.008408</td>\n",
              "      <td>0.033208</td>\n",
              "      <td>1.000000</td>\n",
              "    </tr>\n",
              "  </tbody>\n",
              "</table>\n",
              "</div>\n",
              "    <div class=\"colab-df-buttons\">\n",
              "\n",
              "  <div class=\"colab-df-container\">\n",
              "    <button class=\"colab-df-convert\" onclick=\"convertToInteractive('df-d7992eea-a9d1-4d99-a61a-b58137d8134c')\"\n",
              "            title=\"Convert this dataframe to an interactive table.\"\n",
              "            style=\"display:none;\">\n",
              "\n",
              "  <svg xmlns=\"http://www.w3.org/2000/svg\" height=\"24px\" viewBox=\"0 -960 960 960\">\n",
              "    <path d=\"M120-120v-720h720v720H120Zm60-500h600v-160H180v160Zm220 220h160v-160H400v160Zm0 220h160v-160H400v160ZM180-400h160v-160H180v160Zm440 0h160v-160H620v160ZM180-180h160v-160H180v160Zm440 0h160v-160H620v160Z\"/>\n",
              "  </svg>\n",
              "    </button>\n",
              "\n",
              "  <style>\n",
              "    .colab-df-container {\n",
              "      display:flex;\n",
              "      gap: 12px;\n",
              "    }\n",
              "\n",
              "    .colab-df-convert {\n",
              "      background-color: #E8F0FE;\n",
              "      border: none;\n",
              "      border-radius: 50%;\n",
              "      cursor: pointer;\n",
              "      display: none;\n",
              "      fill: #1967D2;\n",
              "      height: 32px;\n",
              "      padding: 0 0 0 0;\n",
              "      width: 32px;\n",
              "    }\n",
              "\n",
              "    .colab-df-convert:hover {\n",
              "      background-color: #E2EBFA;\n",
              "      box-shadow: 0px 1px 2px rgba(60, 64, 67, 0.3), 0px 1px 3px 1px rgba(60, 64, 67, 0.15);\n",
              "      fill: #174EA6;\n",
              "    }\n",
              "\n",
              "    .colab-df-buttons div {\n",
              "      margin-bottom: 4px;\n",
              "    }\n",
              "\n",
              "    [theme=dark] .colab-df-convert {\n",
              "      background-color: #3B4455;\n",
              "      fill: #D2E3FC;\n",
              "    }\n",
              "\n",
              "    [theme=dark] .colab-df-convert:hover {\n",
              "      background-color: #434B5C;\n",
              "      box-shadow: 0px 1px 3px 1px rgba(0, 0, 0, 0.15);\n",
              "      filter: drop-shadow(0px 1px 2px rgba(0, 0, 0, 0.3));\n",
              "      fill: #FFFFFF;\n",
              "    }\n",
              "  </style>\n",
              "\n",
              "    <script>\n",
              "      const buttonEl =\n",
              "        document.querySelector('#df-d7992eea-a9d1-4d99-a61a-b58137d8134c button.colab-df-convert');\n",
              "      buttonEl.style.display =\n",
              "        google.colab.kernel.accessAllowed ? 'block' : 'none';\n",
              "\n",
              "      async function convertToInteractive(key) {\n",
              "        const element = document.querySelector('#df-d7992eea-a9d1-4d99-a61a-b58137d8134c');\n",
              "        const dataTable =\n",
              "          await google.colab.kernel.invokeFunction('convertToInteractive',\n",
              "                                                    [key], {});\n",
              "        if (!dataTable) return;\n",
              "\n",
              "        const docLinkHtml = 'Like what you see? Visit the ' +\n",
              "          '<a target=\"_blank\" href=https://colab.research.google.com/notebooks/data_table.ipynb>data table notebook</a>'\n",
              "          + ' to learn more about interactive tables.';\n",
              "        element.innerHTML = '';\n",
              "        dataTable['output_type'] = 'display_data';\n",
              "        await google.colab.output.renderOutput(dataTable, element);\n",
              "        const docLink = document.createElement('div');\n",
              "        docLink.innerHTML = docLinkHtml;\n",
              "        element.appendChild(docLink);\n",
              "      }\n",
              "    </script>\n",
              "  </div>\n",
              "\n",
              "\n",
              "    <div id=\"df-c816acd8-a198-48be-b499-c77f4e6494f1\">\n",
              "      <button class=\"colab-df-quickchart\" onclick=\"quickchart('df-c816acd8-a198-48be-b499-c77f4e6494f1')\"\n",
              "                title=\"Suggest charts\"\n",
              "                style=\"display:none;\">\n",
              "\n",
              "<svg xmlns=\"http://www.w3.org/2000/svg\" height=\"24px\"viewBox=\"0 0 24 24\"\n",
              "     width=\"24px\">\n",
              "    <g>\n",
              "        <path d=\"M19 3H5c-1.1 0-2 .9-2 2v14c0 1.1.9 2 2 2h14c1.1 0 2-.9 2-2V5c0-1.1-.9-2-2-2zM9 17H7v-7h2v7zm4 0h-2V7h2v10zm4 0h-2v-4h2v4z\"/>\n",
              "    </g>\n",
              "</svg>\n",
              "      </button>\n",
              "\n",
              "<style>\n",
              "  .colab-df-quickchart {\n",
              "      --bg-color: #E8F0FE;\n",
              "      --fill-color: #1967D2;\n",
              "      --hover-bg-color: #E2EBFA;\n",
              "      --hover-fill-color: #174EA6;\n",
              "      --disabled-fill-color: #AAA;\n",
              "      --disabled-bg-color: #DDD;\n",
              "  }\n",
              "\n",
              "  [theme=dark] .colab-df-quickchart {\n",
              "      --bg-color: #3B4455;\n",
              "      --fill-color: #D2E3FC;\n",
              "      --hover-bg-color: #434B5C;\n",
              "      --hover-fill-color: #FFFFFF;\n",
              "      --disabled-bg-color: #3B4455;\n",
              "      --disabled-fill-color: #666;\n",
              "  }\n",
              "\n",
              "  .colab-df-quickchart {\n",
              "    background-color: var(--bg-color);\n",
              "    border: none;\n",
              "    border-radius: 50%;\n",
              "    cursor: pointer;\n",
              "    display: none;\n",
              "    fill: var(--fill-color);\n",
              "    height: 32px;\n",
              "    padding: 0;\n",
              "    width: 32px;\n",
              "  }\n",
              "\n",
              "  .colab-df-quickchart:hover {\n",
              "    background-color: var(--hover-bg-color);\n",
              "    box-shadow: 0 1px 2px rgba(60, 64, 67, 0.3), 0 1px 3px 1px rgba(60, 64, 67, 0.15);\n",
              "    fill: var(--button-hover-fill-color);\n",
              "  }\n",
              "\n",
              "  .colab-df-quickchart-complete:disabled,\n",
              "  .colab-df-quickchart-complete:disabled:hover {\n",
              "    background-color: var(--disabled-bg-color);\n",
              "    fill: var(--disabled-fill-color);\n",
              "    box-shadow: none;\n",
              "  }\n",
              "\n",
              "  .colab-df-spinner {\n",
              "    border: 2px solid var(--fill-color);\n",
              "    border-color: transparent;\n",
              "    border-bottom-color: var(--fill-color);\n",
              "    animation:\n",
              "      spin 1s steps(1) infinite;\n",
              "  }\n",
              "\n",
              "  @keyframes spin {\n",
              "    0% {\n",
              "      border-color: transparent;\n",
              "      border-bottom-color: var(--fill-color);\n",
              "      border-left-color: var(--fill-color);\n",
              "    }\n",
              "    20% {\n",
              "      border-color: transparent;\n",
              "      border-left-color: var(--fill-color);\n",
              "      border-top-color: var(--fill-color);\n",
              "    }\n",
              "    30% {\n",
              "      border-color: transparent;\n",
              "      border-left-color: var(--fill-color);\n",
              "      border-top-color: var(--fill-color);\n",
              "      border-right-color: var(--fill-color);\n",
              "    }\n",
              "    40% {\n",
              "      border-color: transparent;\n",
              "      border-right-color: var(--fill-color);\n",
              "      border-top-color: var(--fill-color);\n",
              "    }\n",
              "    60% {\n",
              "      border-color: transparent;\n",
              "      border-right-color: var(--fill-color);\n",
              "    }\n",
              "    80% {\n",
              "      border-color: transparent;\n",
              "      border-right-color: var(--fill-color);\n",
              "      border-bottom-color: var(--fill-color);\n",
              "    }\n",
              "    90% {\n",
              "      border-color: transparent;\n",
              "      border-bottom-color: var(--fill-color);\n",
              "    }\n",
              "  }\n",
              "</style>\n",
              "\n",
              "      <script>\n",
              "        async function quickchart(key) {\n",
              "          const quickchartButtonEl =\n",
              "            document.querySelector('#' + key + ' button');\n",
              "          quickchartButtonEl.disabled = true;  // To prevent multiple clicks.\n",
              "          quickchartButtonEl.classList.add('colab-df-spinner');\n",
              "          try {\n",
              "            const charts = await google.colab.kernel.invokeFunction(\n",
              "                'suggestCharts', [key], {});\n",
              "          } catch (error) {\n",
              "            console.error('Error during call to suggestCharts:', error);\n",
              "          }\n",
              "          quickchartButtonEl.classList.remove('colab-df-spinner');\n",
              "          quickchartButtonEl.classList.add('colab-df-quickchart-complete');\n",
              "        }\n",
              "        (() => {\n",
              "          let quickchartButtonEl =\n",
              "            document.querySelector('#df-c816acd8-a198-48be-b499-c77f4e6494f1 button');\n",
              "          quickchartButtonEl.style.display =\n",
              "            google.colab.kernel.accessAllowed ? 'block' : 'none';\n",
              "        })();\n",
              "      </script>\n",
              "    </div>\n",
              "\n",
              "    </div>\n",
              "  </div>\n"
            ],
            "application/vnd.google.colaboratory.intrinsic+json": {
              "type": "dataframe",
              "summary": "{\n  \"name\": \"X_train\",\n  \"rows\": 8,\n  \"fields\": [\n    {\n      \"column\": \"Pregnancies\",\n      \"properties\": {\n        \"dtype\": \"number\",\n        \"std\": 0.3807121084537796,\n        \"min\": -0.07188686692851413,\n        \"max\": 1.0,\n        \"num_unique_values\": 8,\n        \"samples\": [\n          0.12299998402723768,\n          0.016315045371142495,\n          1.0\n        ],\n        \"semantic_type\": \"\",\n        \"description\": \"\"\n      }\n    },\n    {\n      \"column\": \"Glucose\",\n      \"properties\": {\n        \"dtype\": \"number\",\n        \"std\": 0.29524397702680605,\n        \"min\": 0.09143791668848524,\n        \"max\": 1.0,\n        \"num_unique_values\": 8,\n        \"samples\": [\n          1.0,\n          0.2842498061012056,\n          0.12299998402723768\n        ],\n        \"semantic_type\": \"\",\n        \"description\": \"\"\n      }\n    },\n    {\n      \"column\": \"BloodPressure\",\n      \"properties\": {\n        \"dtype\": \"number\",\n        \"std\": 0.3051276194121383,\n        \"min\": 0.031197026980742962,\n        \"max\": 1.0,\n        \"num_unique_values\": 8,\n        \"samples\": [\n          0.14648093336451878,\n          0.31025202313025946,\n          0.18983802962837645\n        ],\n        \"semantic_type\": \"\",\n        \"description\": \"\"\n      }\n    },\n    {\n      \"column\": \"SkinThickness\",\n      \"properties\": {\n        \"dtype\": \"number\",\n        \"std\": 0.3486831309478975,\n        \"min\": -0.08532854981036697,\n        \"max\": 1.0,\n        \"num_unique_values\": 8,\n        \"samples\": [\n          0.09143791668848524,\n          0.3835513352044874,\n          -0.061880375042196505\n        ],\n        \"semantic_type\": \"\",\n        \"description\": \"\"\n      }\n    },\n    {\n      \"column\": \"Insulin\",\n      \"properties\": {\n        \"dtype\": \"number\",\n        \"std\": 0.33361784983437326,\n        \"min\": -0.0384138771375861,\n        \"max\": 1.0,\n        \"num_unique_values\": 8,\n        \"samples\": [\n          0.33426047082513716,\n          0.21063929658069752,\n          -0.024996308942436846\n        ],\n        \"semantic_type\": \"\",\n        \"description\": \"\"\n      }\n    },\n    {\n      \"column\": \"BMI\",\n      \"properties\": {\n        \"dtype\": \"number\",\n        \"std\": 0.3144285378839395,\n        \"min\": 0.008408404039392622,\n        \"max\": 1.0,\n        \"num_unique_values\": 8,\n        \"samples\": [\n          0.2842498061012056,\n          1.0,\n          0.016315045371142495\n        ],\n        \"semantic_type\": \"\",\n        \"description\": \"\"\n      }\n    },\n    {\n      \"column\": \"DiabetesPedigreeFunction\",\n      \"properties\": {\n        \"dtype\": \"number\",\n        \"std\": 0.33201381127838814,\n        \"min\": -0.07188686692851413,\n        \"max\": 1.0,\n        \"num_unique_values\": 8,\n        \"samples\": [\n          0.17968820920240328,\n          0.1538179395744856,\n          -0.07188686692851413\n        ],\n        \"semantic_type\": \"\",\n        \"description\": \"\"\n      }\n    },\n    {\n      \"column\": \"Age\",\n      \"properties\": {\n        \"dtype\": \"number\",\n        \"std\": 0.37304834816823657,\n        \"min\": -0.08532854981036697,\n        \"max\": 1.0,\n        \"num_unique_values\": 8,\n        \"samples\": [\n          0.22298670578545454,\n          0.008408404039392622,\n          0.5801654192529072\n        ],\n        \"semantic_type\": \"\",\n        \"description\": \"\"\n      }\n    }\n  ]\n}"
            }
          },
          "metadata": {},
          "execution_count": 14
        }
      ]
    },
    {
      "cell_type": "markdown",
      "source": [
        "Base Models"
      ],
      "metadata": {
        "id": "uLQv4GeGPK_P"
      }
    },
    {
      "cell_type": "markdown",
      "source": [
        "Hyperparameter tuning using Grid Search"
      ],
      "metadata": {
        "id": "ZUesLgbuWLy_"
      }
    },
    {
      "cell_type": "code",
      "source": [
        "def grid_search(model,space):\n",
        "  from sklearn.model_selection import GridSearchCV, StratifiedKFold\n",
        "  cv=StratifiedKFold(n_splits=10,random_state=756,shuffle=True)\n",
        "  result=GridSearchCV(model,space,scoring='accuracy',n_jobs=-1,cv=cv).fit(X_train,Y_train)\n",
        "  print(f\"Best Parameters: {result.best_params_}\")\n",
        "  print(f'Best Scores : {result.best_score_}')"
      ],
      "metadata": {
        "id": "MX2ShOK8WNXb"
      },
      "execution_count": 15,
      "outputs": []
    },
    {
      "cell_type": "markdown",
      "source": [
        "Logistic Regression\n"
      ],
      "metadata": {
        "id": "Ba02lp81SkjL"
      }
    },
    {
      "cell_type": "code",
      "source": [
        "# logistic regression\n",
        "from sklearn.linear_model import LogisticRegression\n",
        "logistic_regression=LogisticRegression(random_state=756,).fit(X_train,Y_train)\n"
      ],
      "metadata": {
        "id": "6-8bhuR4POTe"
      },
      "execution_count": 28,
      "outputs": []
    },
    {
      "cell_type": "code",
      "source": [
        "def check_score(model):\n",
        "  from sklearn.metrics import accuracy_score\n",
        "  print(f\"Model: {model}\")\n",
        "  print(f\"Train Score: {accuracy_score(Y_train,model.predict(X_train))} | Validation Score: {accuracy_score(Y_val,model.predict(X_val))}\")\n"
      ],
      "metadata": {
        "id": "lrxcW121PmDh"
      },
      "execution_count": 29,
      "outputs": []
    },
    {
      "cell_type": "code",
      "source": [
        "check_score(logistic_regression)"
      ],
      "metadata": {
        "colab": {
          "base_uri": "https://localhost:8080/"
        },
        "id": "pE3SAA9_Pr9D",
        "outputId": "db55b274-354e-447a-d9b7-b3509b1edbaa"
      },
      "execution_count": 30,
      "outputs": [
        {
          "output_type": "stream",
          "name": "stdout",
          "text": [
            "Model: LogisticRegression(random_state=756)\n",
            "Train Score: 0.7782608695652173 | Validation Score: 0.7922077922077922\n"
          ]
        }
      ]
    },
    {
      "cell_type": "code",
      "source": [
        "space={\n",
        "    'tol':[1e-6,1e-5,10-4],\n",
        "    'max_iter':[1000,2000,3000],\n",
        "    'warm_start':[False,True],\n",
        "    'solver':['lbfgs','liblinear']\n",
        "}"
      ],
      "metadata": {
        "id": "Tz5eNJyTWWMI"
      },
      "execution_count": 31,
      "outputs": []
    },
    {
      "cell_type": "code",
      "source": [
        "grid_search(logistic_regression,space)"
      ],
      "metadata": {
        "colab": {
          "base_uri": "https://localhost:8080/"
        },
        "id": "M90gCcO_XHhL",
        "outputId": "3e139b98-c308-4c7f-8b41-6bd575790d9c"
      },
      "execution_count": 32,
      "outputs": [
        {
          "output_type": "stream",
          "name": "stdout",
          "text": [
            "Best Parameters: {'max_iter': 1000, 'solver': 'liblinear', 'tol': 1e-06, 'warm_start': False}\n",
            "Best Scores : 0.7695652173913043\n"
          ]
        }
      ]
    },
    {
      "cell_type": "code",
      "source": [
        "logistic_regression=LogisticRegression(random_state=756,max_iter=1000,solver='liblinear',tol=1e-06).fit(X_train,Y_train)\n"
      ],
      "metadata": {
        "id": "J6UzuKjVxY7g"
      },
      "execution_count": 33,
      "outputs": []
    },
    {
      "cell_type": "code",
      "source": [
        "check_score(logistic_regression)"
      ],
      "metadata": {
        "colab": {
          "base_uri": "https://localhost:8080/"
        },
        "id": "qhySjHs_R5zj",
        "outputId": "dc9cbc86-3be3-42ec-9e88-29d37e5cd15b"
      },
      "execution_count": 34,
      "outputs": [
        {
          "output_type": "stream",
          "name": "stdout",
          "text": [
            "Model: LogisticRegression(max_iter=1000, random_state=756, solver='liblinear',\n",
            "                   tol=1e-06)\n",
            "Train Score: 0.7760869565217391 | Validation Score: 0.7987012987012987\n"
          ]
        }
      ]
    },
    {
      "cell_type": "markdown",
      "source": [
        "Ridge Classifier"
      ],
      "metadata": {
        "id": "krQcNWOwSosE"
      }
    },
    {
      "cell_type": "code",
      "source": [
        "from sklearn.linear_model import RidgeClassifier\n",
        "ridge=RidgeClassifier(random_state=756).fit(X_train,Y_train)"
      ],
      "metadata": {
        "id": "QdD1NT1KSqAA"
      },
      "execution_count": 40,
      "outputs": []
    },
    {
      "cell_type": "code",
      "source": [
        "check_score(ridge)"
      ],
      "metadata": {
        "colab": {
          "base_uri": "https://localhost:8080/"
        },
        "id": "ekq_0Sr1TKln",
        "outputId": "68d6120f-94f6-4572-87b6-f8ce8734eadf"
      },
      "execution_count": 41,
      "outputs": [
        {
          "output_type": "stream",
          "name": "stdout",
          "text": [
            "Model: RidgeClassifier(random_state=756)\n",
            "Train Score: 0.7891304347826087 | Validation Score: 0.7857142857142857\n"
          ]
        }
      ]
    },
    {
      "cell_type": "code",
      "source": [
        "space={\n",
        "    'alpha':[0.1,0.2,0.5,1.0,1.5,2.0,2.5],\n",
        "    'max_iter':[1000,2000,3000],\n",
        "    'tol':[1e-6,1e-5,10-4],\n",
        "    'solver':['svd','cholesky','lsqr','sparse_cg','sag','saga']\n",
        "}\n",
        "grid_search(ridge,space)"
      ],
      "metadata": {
        "colab": {
          "base_uri": "https://localhost:8080/"
        },
        "id": "nWw1q178yo0u",
        "outputId": "403fa38a-90f1-4e9e-bd42-cc690d50d020"
      },
      "execution_count": 45,
      "outputs": [
        {
          "output_type": "stream",
          "name": "stdout",
          "text": [
            "Best Parameters: {'alpha': 0.5, 'max_iter': 1000, 'solver': 'svd', 'tol': 1e-06}\n",
            "Best Scores : 0.7891304347826088\n"
          ]
        }
      ]
    },
    {
      "cell_type": "code",
      "source": [
        "ridge=RidgeClassifier(alpha=0.5,random_state=756,max_iter=1000,tol=1e-06,solver='svd').fit(X_train,Y_train)"
      ],
      "metadata": {
        "id": "bkBHIbj_TM9S"
      },
      "execution_count": 43,
      "outputs": []
    },
    {
      "cell_type": "code",
      "source": [
        "check_score(ridge)"
      ],
      "metadata": {
        "colab": {
          "base_uri": "https://localhost:8080/"
        },
        "id": "vNEe7ZFcTVmT",
        "outputId": "2edd70f2-dbe3-4d53-90b0-fdfc559e7e15"
      },
      "execution_count": 44,
      "outputs": [
        {
          "output_type": "stream",
          "name": "stdout",
          "text": [
            "Model: RidgeClassifier(alpha=0.5, max_iter=1000, random_state=756, solver='svd',\n",
            "                tol=1e-06)\n",
            "Train Score: 0.7891304347826087 | Validation Score: 0.7792207792207793\n"
          ]
        }
      ]
    },
    {
      "cell_type": "markdown",
      "source": [
        "No change in scores with changing hyperparameters of Ridge Classifier"
      ],
      "metadata": {
        "id": "Dma58otCT0lY"
      }
    },
    {
      "cell_type": "markdown",
      "source": [
        "Decision Tree"
      ],
      "metadata": {
        "id": "ol1Otlt2T4i6"
      }
    },
    {
      "cell_type": "code",
      "source": [
        "from sklearn.tree import DecisionTreeClassifier\n",
        "decision_tree=DecisionTreeClassifier(random_state=756).fit(X_train,Y_train)"
      ],
      "metadata": {
        "id": "zJRPBfwvTpDB"
      },
      "execution_count": 48,
      "outputs": []
    },
    {
      "cell_type": "code",
      "source": [
        "check_score(decision_tree)"
      ],
      "metadata": {
        "colab": {
          "base_uri": "https://localhost:8080/"
        },
        "id": "5OB5VxvCUHcq",
        "outputId": "0b9b8084-bdd4-4efc-8d2d-aec523729814"
      },
      "execution_count": 49,
      "outputs": [
        {
          "output_type": "stream",
          "name": "stdout",
          "text": [
            "Model: DecisionTreeClassifier(random_state=756)\n",
            "Train Score: 1.0 | Validation Score: 0.6493506493506493\n"
          ]
        }
      ]
    },
    {
      "cell_type": "code",
      "source": [
        "space={\n",
        "    'max_depth':[None,1,2,3,4,5,6,7,8,9,10],\n",
        "    'min_samples_split':[2,3,4,5,6,7,8,9,10],\n",
        "    'min_samples_leaf':[1,2,3,4,5,6,7,8,9,10],\n",
        "    'max_features':[3,4,5,6,7,8,9]\n",
        "}\n",
        "grid_search(decision_tree,space)"
      ],
      "metadata": {
        "id": "SrAcDRUhUW47",
        "colab": {
          "base_uri": "https://localhost:8080/"
        },
        "outputId": "2199c63d-c916-400a-d771-04ff6c45eff2"
      },
      "execution_count": 51,
      "outputs": [
        {
          "output_type": "stream",
          "name": "stdout",
          "text": [
            "Best Parameters: {'max_depth': None, 'max_features': 6, 'min_samples_leaf': 10, 'min_samples_split': 2}\n",
            "Best Scores : 0.7717391304347826\n"
          ]
        }
      ]
    },
    {
      "cell_type": "code",
      "source": [
        "decision_tree=DecisionTreeClassifier(random_state=756,max_features=6,min_samples_leaf=10,min_samples_split=2).fit(X_train,Y_train)"
      ],
      "metadata": {
        "id": "rKl8GvQL1yZ9"
      },
      "execution_count": 52,
      "outputs": []
    },
    {
      "cell_type": "code",
      "source": [
        "check_score(decision_tree)"
      ],
      "metadata": {
        "colab": {
          "base_uri": "https://localhost:8080/"
        },
        "id": "DLYZU0WB1-Lr",
        "outputId": "3b9a4e60-6def-4bd4-f2c8-3acccc74be2d"
      },
      "execution_count": 53,
      "outputs": [
        {
          "output_type": "stream",
          "name": "stdout",
          "text": [
            "Model: DecisionTreeClassifier(max_features=6, min_samples_leaf=10, random_state=756)\n",
            "Train Score: 0.8608695652173913 | Validation Score: 0.6883116883116883\n"
          ]
        }
      ]
    },
    {
      "cell_type": "code",
      "source": [
        "!git config --global user.email \"singhmanpreet102005@gmail.com\"\n",
        "!git config --global user.name \"Manpreet102005\"\n"
      ],
      "metadata": {
        "id": "0qOt981s0jFD"
      },
      "execution_count": 54,
      "outputs": []
    },
    {
      "cell_type": "code",
      "source": [
        "!git clone https://github.com/Manpreet102005/Diabetes-Prediction\n"
      ],
      "metadata": {
        "colab": {
          "base_uri": "https://localhost:8080/"
        },
        "id": "0MwEiu7dzupI",
        "outputId": "ce793c0c-f6c5-4c32-89ea-eafc89c568db"
      },
      "execution_count": 55,
      "outputs": [
        {
          "output_type": "stream",
          "name": "stdout",
          "text": [
            "Cloning into 'Diabetes-Prediction'...\n",
            "remote: Enumerating objects: 4, done.\u001b[K\n",
            "remote: Counting objects: 100% (4/4), done.\u001b[K\n",
            "remote: Compressing objects: 100% (4/4), done.\u001b[K\n",
            "remote: Total 4 (delta 0), reused 0 (delta 0), pack-reused 0 (from 0)\u001b[K\n",
            "Receiving objects: 100% (4/4), done.\n"
          ]
        }
      ]
    },
    {
      "cell_type": "code",
      "source": [
        "%cd /content/Diabetes-Prediction\n",
        "!git add .\n",
        "!git commit -m \"First Commitment\"\n"
      ],
      "metadata": {
        "colab": {
          "base_uri": "https://localhost:8080/"
        },
        "id": "aT26qjbU2M57",
        "outputId": "9d820a7b-2495-4fbd-8a22-df3e5a05a361"
      },
      "execution_count": 56,
      "outputs": [
        {
          "output_type": "stream",
          "name": "stdout",
          "text": [
            "/content/Diabetes-Prediction\n",
            "On branch main\n",
            "Your branch is up to date with 'origin/main'.\n",
            "\n",
            "nothing to commit, working tree clean\n"
          ]
        }
      ]
    },
    {
      "cell_type": "code",
      "source": [
        "!git push origin main\n"
      ],
      "metadata": {
        "colab": {
          "base_uri": "https://localhost:8080/"
        },
        "id": "s5bXkWfz2cT0",
        "outputId": "4733d98f-5d8f-4766-f2f4-ec0f9fae0672"
      },
      "execution_count": 57,
      "outputs": [
        {
          "output_type": "stream",
          "name": "stdout",
          "text": [
            "fatal: could not read Username for 'https://github.com': No such device or address\n"
          ]
        }
      ]
    },
    {
      "cell_type": "code",
      "source": [],
      "metadata": {
        "id": "S-AQxrZJ2njG"
      },
      "execution_count": null,
      "outputs": []
    }
  ],
  "metadata": {
    "accelerator": "GPU",
    "colab": {
      "gpuType": "T4",
      "provenance": [],
      "include_colab_link": true
    },
    "kernelspec": {
      "display_name": "Python 3",
      "name": "python3"
    },
    "language_info": {
      "name": "python"
    }
  },
  "nbformat": 4,
  "nbformat_minor": 0
}